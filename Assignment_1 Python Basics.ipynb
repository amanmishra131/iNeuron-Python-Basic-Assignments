{
 "cells": [
  {
   "cell_type": "markdown",
   "id": "a0564fba",
   "metadata": {},
   "source": [
    "### Question 1 : "
   ]
  },
  {
   "cell_type": "markdown",
   "id": "a1c7c459",
   "metadata": {},
   "source": [
    "In the below elements which of them are values or an expression? eg:- values can be integer or string and expressions will be mathematical operators."
   ]
  },
  {
   "cell_type": "code",
   "execution_count": null,
   "id": "13c56bc9",
   "metadata": {},
   "outputs": [],
   "source": [
    "  * \n",
    "  'hello'\n",
    "  -87.8\n",
    "  -\n",
    "  /\n",
    "  +\n",
    "  6"
   ]
  },
  {
   "cell_type": "markdown",
   "id": "0e06f7a7",
   "metadata": {},
   "source": [
    "#### Answer 1  : "
   ]
  },
  {
   "cell_type": "code",
   "execution_count": 24,
   "id": "83ab2996",
   "metadata": {},
   "outputs": [],
   "source": [
    "# *        Arithmatic Opertor\n",
    "# 'hello'  String value\n",
    "# -87.8    Floating point value \n",
    "# -        Arithmatic operator\n",
    "# /        Arithmatic operator\n",
    "# +        Arithmatic operator\n",
    "# 6        integer value"
   ]
  },
  {
   "cell_type": "markdown",
   "id": "c1560747",
   "metadata": {},
   "source": [
    "### Question 2 :\n",
    "What is the difference between string and variable ?"
   ]
  },
  {
   "cell_type": "markdown",
   "id": "d1634490",
   "metadata": {},
   "source": [
    "#### Answer 2:"
   ]
  },
  {
   "cell_type": "markdown",
   "id": "ae1b5712",
   "metadata": {},
   "source": [
    "Variable  -   datascience  , \n",
    "String    -  'datascience'  ,\n",
    "Strings always start and end with quotes ( single or double quotes ).\n",
    "variable is a name which point to an object."
   ]
  },
  {
   "cell_type": "markdown",
   "id": "50a866f6",
   "metadata": {},
   "source": [
    "\n",
    "\n",
    "### Question 3  :\n",
    "Describe three different data types."
   ]
  },
  {
   "cell_type": "markdown",
   "id": "40c029bf",
   "metadata": {},
   "source": [
    "#### Answer 3: "
   ]
  },
  {
   "cell_type": "markdown",
   "id": "1b38b103",
   "metadata": {},
   "source": [
    "Integers , \n",
    "floating - point numbers,\n",
    "strings."
   ]
  },
  {
   "cell_type": "markdown",
   "id": "e7e268a7",
   "metadata": {},
   "source": [
    "### Question 4:"
   ]
  },
  {
   "cell_type": "markdown",
   "id": "c3640dc4",
   "metadata": {},
   "source": [
    "What is an expression made up of? What do all expressions do?"
   ]
  },
  {
   "cell_type": "markdown",
   "id": "21e9eef1",
   "metadata": {},
   "source": [
    "#### Answer 4:"
   ]
  },
  {
   "cell_type": "markdown",
   "id": "f1eadadf",
   "metadata": {},
   "source": [
    "Expression is a combination of values, variables, operators.There are three kinds of expressions : \n",
    "An arithmetic expression evaluates to a single arithmetic value. \n",
    "A character expression evaluates to a single value of type character. \n",
    "A logical or relational expression evaluates to a single logical value. \n",
    "\n",
    "All expressions evaluate to a single value."
   ]
  },
  {
   "cell_type": "markdown",
   "id": "15723127",
   "metadata": {},
   "source": [
    "### Question 5:"
   ]
  },
  {
   "cell_type": "markdown",
   "id": "9d0139df",
   "metadata": {},
   "source": [
    "This assignment statements, like spam = 10. What is the difference between an expression and a statement"
   ]
  },
  {
   "cell_type": "markdown",
   "id": "c7b348cd",
   "metadata": {},
   "source": [
    "#### Answer 5:"
   ]
  },
  {
   "cell_type": "markdown",
   "id": "85c955bd",
   "metadata": {},
   "source": [
    "An expression evaluates to a single value. A statement does not \n",
    "while , for , if , else , etc these are the statements ."
   ]
  },
  {
   "cell_type": "markdown",
   "id": "c65d3366",
   "metadata": {},
   "source": [
    "### Question 6:"
   ]
  },
  {
   "cell_type": "markdown",
   "id": "0c48c08e",
   "metadata": {},
   "source": [
    "After running the following code, what does the variable bacon contain?\n",
    "bacon = 22\n",
    "bacon + 1"
   ]
  },
  {
   "cell_type": "markdown",
   "id": "d9562057",
   "metadata": {},
   "source": [
    "#### Answer6:"
   ]
  },
  {
   "cell_type": "markdown",
   "id": "40e06900",
   "metadata": {},
   "source": [
    "The bacon variable is set to 22 , The bacon + 1 expression does not reassign the value in bacon (that would need an assignment statement: bacon = bacon + 1) ,\n",
    "so, still bacon contains value 22."
   ]
  },
  {
   "cell_type": "markdown",
   "id": "f4dbef1e",
   "metadata": {},
   "source": [
    "### Question 7:"
   ]
  },
  {
   "cell_type": "markdown",
   "id": "cfaa01a7",
   "metadata": {},
   "source": [
    "What should the following two expressions evaluate to ?  'spam'  + 'spamspam' and 'spam' * 3"
   ]
  },
  {
   "cell_type": "markdown",
   "id": "41b1d7b2",
   "metadata": {},
   "source": [
    "#### Answer 7:"
   ]
  },
  {
   "cell_type": "markdown",
   "id": "0e1cc199",
   "metadata": {},
   "source": [
    "Both expressions evaluate to the string 'spamspamspam'"
   ]
  },
  {
   "cell_type": "markdown",
   "id": "de4d3236",
   "metadata": {},
   "source": [
    "### Question 8:"
   ]
  },
  {
   "cell_type": "markdown",
   "id": "1af2e6b6",
   "metadata": {},
   "source": [
    "Why is it that eggs is a true variable name but 100 is not?"
   ]
  },
  {
   "cell_type": "markdown",
   "id": "85f807aa",
   "metadata": {},
   "source": [
    "#### Answer 8:"
   ]
  },
  {
   "cell_type": "markdown",
   "id": "5dc4a03f",
   "metadata": {},
   "source": [
    "Variable names cannot begin with a number , either it should be character or underscore ."
   ]
  },
  {
   "cell_type": "markdown",
   "id": "a7afa388",
   "metadata": {},
   "source": [
    "### Question 9:"
   ]
  },
  {
   "cell_type": "markdown",
   "id": "0d885d5e",
   "metadata": {},
   "source": [
    "What three functions can be used to get the integer, floating-point number, or string version of a value?"
   ]
  },
  {
   "cell_type": "markdown",
   "id": "026049d5",
   "metadata": {},
   "source": [
    "#### Answer 9:"
   ]
  },
  {
   "cell_type": "markdown",
   "id": "7a636dba",
   "metadata": {},
   "source": [
    "int(), float(), str()  these functions respectively can be used to convert a value to an integer, a floating-point number, or a string."
   ]
  },
  {
   "cell_type": "markdown",
   "id": "d3051159",
   "metadata": {},
   "source": [
    "### Question 10:"
   ]
  },
  {
   "cell_type": "markdown",
   "id": "27c5aff0",
   "metadata": {},
   "source": [
    "Why does this expression cause an error? How can you fix it?\n",
    "\n",
    "'I have eaten ' + 99 + ' burritos.'"
   ]
  },
  {
   "cell_type": "markdown",
   "id": "fe952216",
   "metadata": {},
   "source": [
    "#### Answer 10:"
   ]
  },
  {
   "cell_type": "markdown",
   "id": "cb601658",
   "metadata": {},
   "source": [
    "reason of error  : string + integer + string \n",
    "\n",
    "The expression causes an error because 99 is an integer, and only strings can be concatenated to other strings with the + operator. \n",
    "\n",
    "The correct way is I have eaten ' + str(99) + ' burritos.'."
   ]
  }
 ],
 "metadata": {
  "kernelspec": {
   "display_name": "Python 3 (ipykernel)",
   "language": "python",
   "name": "python3"
  },
  "language_info": {
   "codemirror_mode": {
    "name": "ipython",
    "version": 3
   },
   "file_extension": ".py",
   "mimetype": "text/x-python",
   "name": "python",
   "nbconvert_exporter": "python",
   "pygments_lexer": "ipython3",
   "version": "3.9.12"
  }
 },
 "nbformat": 4,
 "nbformat_minor": 5
}
