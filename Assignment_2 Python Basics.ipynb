{
 "cells": [
  {
   "cell_type": "markdown",
   "id": "786565af",
   "metadata": {},
   "source": [
    "**Question 1:**\n",
    "What are the two values of the Boolean data type?   \n",
    "How do you write them?\n",
    "\n",
    "**Answer 1 :**  __True__ and __False__ , capital T and F and rest of the word in lowercase."
   ]
  },
  {
   "cell_type": "markdown",
   "id": "85b6651b",
   "metadata": {},
   "source": [
    "**-----------------------------------------------------------------------------------------**   "
   ]
  },
  {
   "cell_type": "markdown",
   "id": "d559410a",
   "metadata": {},
   "source": [
    "**Question 2:** \n",
    "What are the three different types of Boolean operators?  \n",
    "   \n",
    "**Answer 2:** 3 boolean operators are                 __and     ,            or__      and         __not__  "
   ]
  },
  {
   "cell_type": "markdown",
   "id": "9254f1e3",
   "metadata": {},
   "source": [
    "**-----------------------------------------------------------------------------------------**  "
   ]
  },
  {
   "cell_type": "markdown",
   "id": "47515cc2",
   "metadata": {},
   "source": [
    "**Question 3:** Write out the truth tables of each Boolean operator (that is, every possible combination of Boolean values for the operator and what they evaluate to).\n",
    "\n",
    "**Answer 3:**  \n",
    "True and True is   True.    \n",
    "True and False is  False.  \n",
    "False and True is False.  \n",
    "False and False is False.  \n",
    "True or True is True.  \n",
    "True or False is True.  \n",
    "False or True is True.  \n",
    "False or False is False.  \n",
    "not True is False.  \n",
    "not False is True.  "
   ]
  },
  {
   "cell_type": "markdown",
   "id": "0be0d945",
   "metadata": {},
   "source": [
    "**-----------------------------------------------------------------------------------------**  "
   ]
  },
  {
   "cell_type": "markdown",
   "id": "560f2b46",
   "metadata": {},
   "source": [
    "**Question 4 :**  What are the values of the following expressions?  \n",
    "(5 &gt; 4) and (3 == 5)  \n",
    "not (5 &gt; 4)  \n",
    "(5 &gt; 4) or (3 == 5)  \n",
    "not ((5 &gt; 4) or (3 == 5))  \n",
    "(True and True) and (True == False)   \n",
    "(not False) or (not True)    \n",
    "  \n",
    "**Answer 4:**     \n",
    "False  \n",
    "False  \n",
    "True  \n",
    "False  \n",
    "False  \n",
    "True  "
   ]
  },
  {
   "cell_type": "markdown",
   "id": "e1f33ae9",
   "metadata": {},
   "source": [
    "**-----------------------------------------------------------------------------------------**"
   ]
  },
  {
   "cell_type": "markdown",
   "id": "84fb430b",
   "metadata": {},
   "source": [
    "**Question 5:**  What are the six comparison operators?  \n",
    "**Answer 5:**    six different types of reference operators are __==, !=, <, >, <=,__ and __>=__"
   ]
  },
  {
   "cell_type": "markdown",
   "id": "cb0add79",
   "metadata": {},
   "source": [
    "**-----------------------------------------------------------------------------------------**"
   ]
  },
  {
   "cell_type": "markdown",
   "id": "f8149095",
   "metadata": {},
   "source": [
    " **Quemstion 6:** What is the difference between the equal to operator and the assignment operator?  \n",
    " \n",
    "**Answer 6:**   __==__  is the __equal  to operator__ that compares two values and evaluates to a __Boolean(True / False),__   while __=__ is the __assignment  operator__ that __stores a value in a variable.__  "
   ]
  },
  {
   "cell_type": "markdown",
   "id": "28c04500",
   "metadata": {},
   "source": [
    "**-----------------------------------------------------------------------------------------**"
   ]
  },
  {
   "cell_type": "markdown",
   "id": "ee07573a",
   "metadata": {},
   "source": [
    "**Question 7:** Identify the three blocks in this code:  "
   ]
  },
  {
   "cell_type": "code",
   "execution_count": 1,
   "id": "11b9db40",
   "metadata": {},
   "outputs": [
    {
     "name": "stdout",
     "output_type": "stream",
     "text": [
      "spam\n"
     ]
    }
   ],
   "source": [
    "#given in the problem to identify \n",
    "spam = 0\n",
    "if spam == 10:\n",
    "    print('eggs')\n",
    "    if spam > 5:\n",
    "        print('bacon')\n",
    "    else:\n",
    "        print('ham')\n",
    "    print('spam')\n",
    "print('spam')"
   ]
  },
  {
   "cell_type": "markdown",
   "id": "9ce697ae",
   "metadata": {},
   "source": [
    "**Answer 7:**   \n",
    "The three blocks are everything inside the if statement"
   ]
  },
  {
   "cell_type": "markdown",
   "id": "1c11184b",
   "metadata": {},
   "source": [
    "**-----------------------------------------------------------------------------------------**"
   ]
  },
  {
   "cell_type": "markdown",
   "id": "f55066b6",
   "metadata": {},
   "source": [
    "**Question 8:**  Write code that prints Hello if 1 is stored in spam, prints   Howdy if 2 is stored in spam, and printsGreetings! if anything else is stored  in spam.   \n",
    "  \n",
    "**Answer 8:**  "
   ]
  },
  {
   "cell_type": "code",
   "execution_count": 2,
   "id": "4bbad51b",
   "metadata": {},
   "outputs": [
    {
     "name": "stdout",
     "output_type": "stream",
     "text": [
      "press Number:100\n",
      "Greetings!\n"
     ]
    }
   ],
   "source": [
    "spam = int(input(\"press Number:\"))\n",
    "if spam == 1:\n",
    "    print('Hello')\n",
    "elif spam == 2:\n",
    "    print('Howdy')\n",
    "else:\n",
    "    print('Greetings!')"
   ]
  },
  {
   "cell_type": "markdown",
   "id": "24736101",
   "metadata": {},
   "source": [
    "**-----------------------------------------------------------------------------------------**"
   ]
  },
  {
   "cell_type": "markdown",
   "id": "8fb2182b",
   "metadata": {},
   "source": [
    "**Question 9:**  If your programme is stuck in an endless loop, what keys   you’ll press?  \n",
    "  \n",
    "**Answer 9:**  we can stop an infinite loop with __CTRL + C__\n"
   ]
  },
  {
   "cell_type": "markdown",
   "id": "8d44ca32",
   "metadata": {},
   "source": [
    "**-----------------------------------------------------------------------------------------**"
   ]
  },
  {
   "cell_type": "markdown",
   "id": "71b3d2c6",
   "metadata": {},
   "source": [
    "**Question 10 :**  How can you tell the difference between break and continue?     \n",
    "**Answer 10 :** break statement will move the execution outside and just after a loop.  \n",
    " The continue statement will move the execution to the start of   the loop.  "
   ]
  },
  {
   "cell_type": "markdown",
   "id": "3d07e322",
   "metadata": {},
   "source": [
    "**-----------------------------------------------------------------------------------------**"
   ]
  },
  {
   "cell_type": "markdown",
   "id": "01370efc",
   "metadata": {},
   "source": [
    "**Question 11:**   \n",
    "In a for loop, what is the difference between __range(10),__      __range(0, 10)__, and __range(0, 10, 1)__ ?  \n",
    "  \n",
    "**Answer 11:**  \n",
    "They all are same,    \n",
    "The range(10) call ranges from 0 up to 10(excluding),  \n",
    "range(0, 10) explicitly tells the loop to start at 0, and   \n",
    "range(0, 10, 1) explicitly tells the loop to increase the variable by 1 on each iteration.     "
   ]
  },
  {
   "cell_type": "markdown",
   "id": "a25601aa",
   "metadata": {},
   "source": [
    "**-----------------------------------------------------------------------------------------**"
   ]
  },
  {
   "cell_type": "markdown",
   "id": "f7654fce",
   "metadata": {},
   "source": [
    "**Question 12 :**   \n",
    "Write a short program that prints the numbers 1 to 10 using a for loop. Then write an equivalent program that prints the numbers 1 to 10 using a while loop.  \n",
    "  \n",
    "**Answer 12:**  "
   ]
  },
  {
   "cell_type": "code",
   "execution_count": 7,
   "id": "8d63dec5",
   "metadata": {},
   "outputs": [
    {
     "name": "stdout",
     "output_type": "stream",
     "text": [
      "1\n",
      "2\n",
      "3\n",
      "4\n",
      "5\n",
      "6\n",
      "7\n",
      "8\n",
      "9\n",
      "10\n",
      "1\n",
      "2\n",
      "3\n",
      "4\n",
      "5\n",
      "6\n",
      "7\n",
      "8\n",
      "9\n",
      "10\n"
     ]
    }
   ],
   "source": [
    "for i in range(1, 11):\n",
    "    print(i)\n",
    "\n",
    " \n",
    "a = 1 \n",
    "while a:\n",
    "    print(a)\n",
    "    if a == 10:\n",
    "        break \n",
    "    a += 1 "
   ]
  },
  {
   "cell_type": "markdown",
   "id": "a714577a",
   "metadata": {},
   "source": [
    "**-----------------------------------------------------------------------------------------**"
   ]
  },
  {
   "cell_type": "markdown",
   "id": "ae110953",
   "metadata": {},
   "source": [
    "**Question 13:**  If you had a function named bacon() inside a module named spam, how would you call it after importing spam?  \n",
    "   \n",
    "**Answer 13:**  function can be called with __spam.bacon().__  "
   ]
  },
  {
   "cell_type": "code",
   "execution_count": null,
   "id": "cb9a9136",
   "metadata": {},
   "outputs": [],
   "source": []
  }
 ],
 "metadata": {
  "kernelspec": {
   "display_name": "Python 3 (ipykernel)",
   "language": "python",
   "name": "python3"
  },
  "language_info": {
   "codemirror_mode": {
    "name": "ipython",
    "version": 3
   },
   "file_extension": ".py",
   "mimetype": "text/x-python",
   "name": "python",
   "nbconvert_exporter": "python",
   "pygments_lexer": "ipython3",
   "version": "3.9.12"
  }
 },
 "nbformat": 4,
 "nbformat_minor": 5
}
